{
 "cells": [
  {
   "cell_type": "code",
   "execution_count": null,
   "metadata": {},
   "outputs": [],
   "source": [
    "'''Decorators'''\n",
    "\n",
    "def print_args(func):\n",
    "    def inner_func(*args, **kwargs):\n",
    "        print(\"Execution of the multiply nums started \")\n",
    "        return func(*args,**kwargs)\n",
    "        #call the original function with its arguements.\n",
    "    return inner_func\n",
    "\n",
    "def multiply_nums(a,b):\n",
    "    return a*b\n",
    "\n",
    "\n",
    "test1=print_args(multiply_nums)\n",
    "result=test1(30,40)\n",
    "print(result)\n",
    "# print(test1)\n",
    "# print(type(test1(10,20)))\n",
    "\n",
    "\n"
   ]
  }
 ],
 "metadata": {
  "kernelspec": {
   "display_name": "base",
   "language": "python",
   "name": "python3"
  },
  "language_info": {
   "name": "python",
   "version": "3.9.12"
  }
 },
 "nbformat": 4,
 "nbformat_minor": 2
}
