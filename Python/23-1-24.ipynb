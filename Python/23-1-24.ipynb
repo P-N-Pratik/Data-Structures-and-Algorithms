{
 "cells": [
  {
   "cell_type": "code",
   "execution_count": null,
   "metadata": {},
   "outputs": [
    {
     "ename": "",
     "evalue": "",
     "output_type": "error",
     "traceback": [
      "\u001b[1;31mThe kernel failed to start as 'Empty' could not be imported from 'c:\\Users\\PratikPatil\\OneDrive\\Documents\\DSA(In C, C++, Java, Python'.\n",
      "\u001b[1;31mClick <a href='https://aka.ms/kernelFailuresModuleImportErrFromFile'>here</a> for more info."
     ]
    }
   ],
   "source": [
    "class Node:\n",
    "    def __init__(self,val,next=None):\n",
    "        self.val = val\n",
    "        self.next = next\n",
    "    \n",
    "class LinkedList:\n",
    "    def __init__(self):\n",
    "        self.head = None\n",
    "    \n",
    "    def insert(self,val):\n",
    "        if self.head is None:\n",
    "            self.head = Node(val)\n",
    "        else:\n",
    "            temp = self.head\n",
    "            while temp.next:\n",
    "                temp = temp.next\n",
    "            temp.next = Node(val)\n",
    "    \n",
    "    def printt(self):\n",
    "        itr = self.head\n",
    "        temp = self.head\n",
    "        while temp:\n",
    "            print(temp.val,end=\"-->\")\n",
    "            temp = temp.next\n",
    "            if temp.next == None:\n",
    "                temp.next = itr.next.next\n",
    "    \n",
    "    def rotate(self,k):\n",
    "        if self.head is None or k==0:\n",
    "            return head\n",
    "        temp = self.head\n",
    "        while k:\n",
    "            temp = temp.next \n",
    "            k = k-1\n",
    "        itr = self.head\n",
    "        while itr.next:\n",
    "            itr = itr.next\n",
    "        itr.next = self.head\n",
    "        self.head  = temp.next\n",
    "        temp.next = None\n",
    "        return self.head\n",
    "    \n",
    "    def removeDupli(self):\n",
    "        if self.head is None:\n",
    "            return -1\n",
    "        current = self.head\n",
    "        while current:\n",
    "            if current.val==current.next.val:\n",
    "                current.next = current.next.next\n",
    "            else:\n",
    "                current = current.next\n",
    "    \n",
    "    def add2LinkedList(self):\n",
    "        temp = self.head\n",
    "        s1 = \"\"\n",
    "        while temp:\n",
    "            s1 += str(temp.val)\n",
    "            temp = temp.next\n",
    "        return s1\n",
    "    \n",
    "\n",
    "li1 = LinkedList()\n",
    "li2 = LinkedList()\n",
    "\n",
    "li1.insert(5)\n",
    "li1.insert(4)\n",
    "li1.insert(3)\n",
    "li2.insert(2)\n",
    "li2.insert(1)\n",
    "li1.printt() \n",
    "print()\n",
    "a = li1.add2LinkedList()\n",
    "print(a)\n",
    "b = li2.add2LinkedList()\n",
    "print(b)\n",
    "sum = int (a) + int (b)\n",
    "c = len(sum)\n",
    "li2.printt()\n",
    "\n"
   ]
  },
  {
   "cell_type": "code",
   "execution_count": null,
   "metadata": {},
   "outputs": [
    {
     "ename": "",
     "evalue": "",
     "output_type": "error",
     "traceback": [
      "\u001b[1;31mThe kernel failed to start as 'Empty' could not be imported from 'c:\\Users\\PratikPatil\\OneDrive\\Documents\\DSA(In C, C++, Java, Python'.\n",
      "\u001b[1;31mClick <a href='https://aka.ms/kernelFailuresModuleImportErrFromFile'>here</a> for more info."
     ]
    }
   ],
   "source": [
    "#intersection of 2 linked list\n",
    "'''\n",
    "testcase1 :\n",
    "    L1 = 3->5->common\n",
    "    L2 = 6->8->4->common \n",
    "    common = 9->12\n",
    "'''\n",
    "def optimalIntersection(l1,l2):\n",
    "    p1 = l1.head\n",
    "    p2 = l2.head \n",
    "    while p1 or p2:\n",
    "        if p1 is p2:\n",
    "            return p1 \n",
    "        if p1 is None:\n",
    "            p1 = l2.head\n",
    "        if p2 is None:\n",
    "            p2 = l1.head\n",
    "        p1 = p1.next\n",
    "        p2 = p2.next"
   ]
  },
  {
   "cell_type": "code",
   "execution_count": null,
   "metadata": {},
   "outputs": [],
   "source": [
    "#loopings in linked list \n",
    "# 1->2->3->4->5->6\n",
    "#          |     |        loop will keep iterating from 4 to 9\n",
    "#          9<-8<-7\n",
    "\n",
    "def checkCircular(self,head):\n",
    "    slow = head\n",
    "    fast = head \n",
    "    while fast and fast.next:\n",
    "        slow = slow.next \n",
    "        fast = fast.next.next\n",
    "        if slow == fast:\n",
    "            return True \n",
    "    return False"
   ]
  },
  {
   "cell_type": "markdown",
   "metadata": {},
   "source": [
    "#Questions for linked list\n",
    "\n",
    "crud operations in linked list\n",
    "reverse a linked list\n",
    "middle element of linked list\n",
    "palindromic linked list (stack and optimal approach)\n",
    "sort a linked list of 0's and 1's and  2's\n",
    "removing the duplicates in a sorted linked list\n",
    "homework  - removing duplicates in unsorted linked list\n",
    "rotate a linked list by k positions\n",
    "program a add given 2 linked list\n",
    "program to add 1 to end of a given linked list(homework)\n",
    "program to find the intersection of given linked list\n",
    "to detect a loop in a given linked list\n",
    "sort a given linked list using merge sort\n",
    "to find the lenght of loop in a given linked list\n",
    "merge 2 sorted linked list\n",
    "flatten a given linked list\n",
    "clone a node for a given linked list\n",
    "desgining the browser history using linked list"
   ]
  },
  {
   "cell_type": "markdown",
   "metadata": {},
   "source": [
    "Types of Binary tree based on the number of children:\n",
    "following are the binary tree based on the number of children:\n",
    "\n",
    "Full binary Tree\n",
    "Degenerate binary Tree\n",
    "Skewed Binary Tree\n",
    "\n",
    "Types of binary tree on the basis of the completion of levels:\n",
    "\n",
    "Complete binary Tree\n",
    "prefect bianry Tree\n",
    "balanced binary Tree\n",
    "\n",
    "Some special types of tree:\n",
    "on the basis of node values, the binary tree can be classified into the following special type:\n",
    "\n",
    "Binary search tree \n",
    "AVL tree  \n",
    "Red black tree \n",
    "B tree\n",
    "B+ Tree\n",
    "Segment Tree"
   ]
  },
  {
   "cell_type": "code",
   "execution_count": 45,
   "metadata": {},
   "outputs": [
    {
     "ename": "TypeError",
     "evalue": "Tree.insert() takes 3 positional arguments but 4 were given",
     "output_type": "error",
     "traceback": [
      "\u001b[1;31m---------------------------------------------------------------------------\u001b[0m",
      "\u001b[1;31mTypeError\u001b[0m                                 Traceback (most recent call last)",
      "Cell \u001b[1;32mIn[45], line 40\u001b[0m\n\u001b[0;32m     36\u001b[0m                     temp \u001b[38;5;241m=\u001b[39m temp\u001b[38;5;241m.\u001b[39mright\n\u001b[0;32m     39\u001b[0m t \u001b[38;5;241m=\u001b[39m Tree()\n\u001b[1;32m---> 40\u001b[0m \u001b[43mt\u001b[49m\u001b[38;5;241;43m.\u001b[39;49m\u001b[43minsert\u001b[49m\u001b[43m(\u001b[49m\u001b[43mt\u001b[49m\u001b[43m,\u001b[49m\u001b[38;5;28;43;01mNone\u001b[39;49;00m\u001b[43m,\u001b[49m\u001b[38;5;241;43m3\u001b[39;49m\u001b[43m)\u001b[49m\n\u001b[0;32m     41\u001b[0m t\u001b[38;5;241m.\u001b[39minsert(t,\u001b[38;5;28;01mNone\u001b[39;00m,\u001b[38;5;241m4\u001b[39m)\n\u001b[0;32m     42\u001b[0m t\u001b[38;5;241m.\u001b[39minsert(t,\u001b[38;5;28;01mNone\u001b[39;00m,\u001b[38;5;241m5\u001b[39m)\n",
      "\u001b[1;31mTypeError\u001b[0m: Tree.insert() takes 3 positional arguments but 4 were given"
     ]
    }
   ],
   "source": [
    "class node:\n",
    "    def __init__(self,data):\n",
    "        self.data = data\n",
    "        self.left = None\n",
    "        self.right = None\n",
    "    \n",
    "class Tree:\n",
    "    def __init__(self):\n",
    "        self.root = None\n",
    "    \n",
    "    def insert(self,root,data):\n",
    "        if root is None:\n",
    "            root = node(data)\n",
    "            return root\n",
    "        if data > root.data:\n",
    "            root.right = self.insert(root.right,data)\n",
    "        if data < root.data:\n",
    "            root.left = self.insert(root.left,data)\n",
    "        return root\n",
    "    \n",
    "    def searching(self,root):\n",
    "        key = eval(input())\n",
    "        temp = self.root \n",
    "        if temp is None:\n",
    "            print(\"Tree is empty\")\n",
    "        while temp:\n",
    "            if temp.data > key:\n",
    "                if temp.data == key:\n",
    "                    print(\"key is found\")\n",
    "                else:\n",
    "                    temp = temp.left\n",
    "            if temp.data < key:\n",
    "                if temp.data == key:\n",
    "                    print(\"key is found\")\n",
    "                else:\n",
    "                    temp = temp.right\n",
    "        \n",
    "\n",
    "t = Tree()\n",
    "t.insert(t,None,3)\n",
    "t.insert(t,None,4)\n",
    "t.insert(t,None,5)\n",
    "t.insert(t,None,2)\n",
    "t.insert(t,None,1)\n",
    "t.searching(t,root)"
   ]
  },
  {
   "cell_type": "code",
   "execution_count": 58,
   "metadata": {},
   "outputs": [
    {
     "name": "stdout",
     "output_type": "stream",
     "text": [
      "2\n"
     ]
    }
   ],
   "source": [
    "a = int(input())\n",
    "b = bin(a)[2:]\n",
    "count = 0\n",
    "for i in b:\n",
    "    if i=='1':\n",
    "        count+=1\n",
    "print(count)\n"
   ]
  }
 ],
 "metadata": {
  "kernelspec": {
   "display_name": "Python 3",
   "language": "python",
   "name": "python3"
  },
  "language_info": {
   "codemirror_mode": {
    "name": "ipython",
    "version": 3
   },
   "file_extension": ".py",
   "mimetype": "text/x-python",
   "name": "python",
   "nbconvert_exporter": "python",
   "pygments_lexer": "ipython3",
   "version": "3.11.0"
  }
 },
 "nbformat": 4,
 "nbformat_minor": 2
}
