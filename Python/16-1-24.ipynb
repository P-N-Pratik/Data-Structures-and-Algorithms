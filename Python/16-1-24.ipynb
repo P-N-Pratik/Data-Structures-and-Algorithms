{
 "cells": [
  {
   "cell_type": "code",
   "execution_count": 53,
   "metadata": {},
   "outputs": [
    {
     "name": "stdout",
     "output_type": "stream",
     "text": [
      "['#', 'a', 'r', 'y', 'a', 'n']\n",
      "['a', 'j', 'd', 's', 'a', 'd', '#', '#', ' ', 'd', 's', 'a', 'd', 's', 'a', 'd']\n"
     ]
    },
    {
     "data": {
      "text/plain": [
       "False"
      ]
     },
     "execution_count": 53,
     "metadata": {},
     "output_type": "execute_result"
    }
   ],
   "source": [
    "#popping element before #\n",
    "\n",
    "s1 = input()\n",
    "l1 = list(s1)  \n",
    "\n",
    "s2 = input()\n",
    "l2 = list(s2)  \n",
    "\n",
    "i = 0\n",
    "while i < len(l1):\n",
    "    if l1[i] == \"#\":\n",
    "        l1.pop(i-1)\n",
    "    else:\n",
    "        i += 1\n",
    "\n",
    "i = 0\n",
    "while i < len(l1):\n",
    "    if l1[i] == \"#\":\n",
    "        l1.pop(i-1)\n",
    "    else:\n",
    "        i += 1\n",
    "        \n",
    "print(l1)\n",
    "print(l2)\n",
    "\n",
    "#better time complexity\n",
    "\n",
    "def stringcompare(str1,str2,i,j):\n",
    "    while(i>=0 and j>=0):\n",
    "        count1 = 0 \n",
    "        count2 = 0\n",
    "        while(i>0 and (count1>0 or str1[i]=='#')):\n",
    "            if (str1[i]=='#'):\n",
    "                count1+=1\n",
    "            else:\n",
    "                count1-=1\n",
    "            i-=1\n",
    "        while(j>0 and (count2>0 or str2[j]=='#')):\n",
    "            if (str2[j]=='#'):\n",
    "                count2+=1\n",
    "            else:\n",
    "                count2-=1\n",
    "            j-=1\n",
    "        if(i>=0 and j>=0):\n",
    "            if(str1[i]!=str2[j]):\n",
    "                return False        \n",
    "            else:\n",
    "                i-=1\n",
    "                j-=1\n",
    "        else:\n",
    "            if(i<=0 or j<=0):\n",
    "                return False\n",
    "str1 = input()\n",
    "str2 = input()\n",
    "n1 = len(str1)\n",
    "n2 = len(str2)\n",
    "i = n1-1\n",
    "j = n2-1\n",
    "stringcompare(str1,str2,i,j)"
   ]
  },
  {
   "cell_type": "code",
   "execution_count": 52,
   "metadata": {},
   "outputs": [
    {
     "name": "stdout",
     "output_type": "stream",
     "text": [
      "value: 7, index: 2 + value: 9, index: 4 = key found (16)\n",
      "9 + 7 = key found (16)\n"
     ]
    }
   ],
   "source": [
    "#find keys which are sum of 2 elements in array\n",
    "\n",
    "def pairs(arr,key):\n",
    "    for i in range(len(arr)):\n",
    "        for j in range(i+1, len(arr)): \n",
    "            if arr[i] + arr[j] == key:\n",
    "                print(f\"value: {arr[i]}, index: {(i)} + value: {arr[j]}, index: {(j)} = key found ({key})\")\n",
    "arr = [2, 3, 7, 8, 9, 0]\n",
    "key = 16 \n",
    "pairs(arr,key)\n",
    "\n",
    "#different approach\n",
    "\n",
    "arr = [2, 3, 7, 8, 9, 0]\n",
    "key = 16\n",
    "\n",
    "seen_set = set()\n",
    "\n",
    "for num in arr:\n",
    "    complement = key - num\n",
    "\n",
    "    if complement in seen_set:\n",
    "        print(f\"{num} + {complement} = key found ({key})\")\n",
    "    \n",
    "    seen_set.add(num)\n",
    "    \n",
    "#different approach\n",
    "\n",
    "def pair(arr,key):\n",
    "    for i in range(len(arr)):\n",
    "        value = key-arr[i]\n",
    "        if dic[arr[i]]!=-1:\n",
    "            print(arr[i],value)\n",
    "            break\n",
    "        else:\n",
    "            dic[arr[i]]=0\n",
    "\n",
    "arr = [2,3,7,8,9,0]\n",
    "dic = {}\n",
    "key = 16\n",
    "result = pair(arr,key)\n",
    "print(arr[result[0]],arr[result[1]])"
   ]
  },
  {
   "cell_type": "code",
   "execution_count": 59,
   "metadata": {},
   "outputs": [
    {
     "name": "stdout",
     "output_type": "stream",
     "text": [
      "[7, 1, 32, 4, 5, 1, 0, 8]\n"
     ]
    },
    {
     "data": {
      "text/plain": [
       "[0, 1, 1, 4, 5, 7, 8, 32]"
      ]
     },
     "execution_count": 59,
     "metadata": {},
     "output_type": "execute_result"
    }
   ],
   "source": [
    "#selection sort\n",
    "\n",
    "def selectionSort(arr,n):\n",
    "    for i in range(n):\n",
    "        min_i = i\n",
    "        for j in range(i+1,n):\n",
    "            if arr[j]<arr[min_i]:\n",
    "                min_i = j\n",
    "        if min_i == i:\n",
    "            pass\n",
    "        else:\n",
    "            arr[i],arr[min_i] = arr[min_i],arr[i]\n",
    "            \n",
    "arr = list(map(int, input().split()))\n",
    "print(arr)\n",
    "n = len(arr)   \n",
    "selectionSort(arr,n) \n",
    "arr"
   ]
  },
  {
   "cell_type": "code",
   "execution_count": 73,
   "metadata": {},
   "outputs": [
    {
     "name": "stdout",
     "output_type": "stream",
     "text": [
      "[2, 4, 5, 7]\n"
     ]
    }
   ],
   "source": [
    "#insertion sort\n",
    "\n",
    "def insertionSort(arr,n):\n",
    "    for i in range(1,n):\n",
    "        key=arr[i]\n",
    "        j=i-1\n",
    "        while j>=0 and key<arr[j]:\n",
    "            arr[j+1] = arr[j]\n",
    "            j = j-1\n",
    "        arr[j+1]=key\n",
    "arr = list(map(int, input().split()))\n",
    "n = len(arr)\n",
    "insertionSort(arr,n)\n",
    "print(arr)"
   ]
  },
  {
   "cell_type": "code",
   "execution_count": 77,
   "metadata": {},
   "outputs": [
    {
     "ename": "IndexError",
     "evalue": "list index out of range",
     "output_type": "error",
     "traceback": [
      "\u001b[1;31m---------------------------------------------------------------------------\u001b[0m",
      "\u001b[1;31mIndexError\u001b[0m                                Traceback (most recent call last)",
      "Cell \u001b[1;32mIn[77], line 42\u001b[0m\n\u001b[0;32m     40\u001b[0m arr \u001b[38;5;241m=\u001b[39m \u001b[38;5;28mlist\u001b[39m(\u001b[38;5;28mmap\u001b[39m(\u001b[38;5;28mint\u001b[39m, \u001b[38;5;28minput\u001b[39m()\u001b[38;5;241m.\u001b[39msplit()))\n\u001b[0;32m     41\u001b[0m n \u001b[38;5;241m=\u001b[39m \u001b[38;5;28mlen\u001b[39m(arr)\n\u001b[1;32m---> 42\u001b[0m \u001b[43mmergeSort\u001b[49m\u001b[43m(\u001b[49m\u001b[43marr\u001b[49m\u001b[43m,\u001b[49m\u001b[38;5;241;43m0\u001b[39;49m\u001b[43m,\u001b[49m\u001b[43mn\u001b[49m\u001b[38;5;241;43m-\u001b[39;49m\u001b[38;5;241;43m1\u001b[39;49m\u001b[43m)\u001b[49m\n\u001b[0;32m     43\u001b[0m \u001b[38;5;28mprint\u001b[39m(arr)\n",
      "Cell \u001b[1;32mIn[77], line 8\u001b[0m, in \u001b[0;36mmergeSort\u001b[1;34m(arr, l, h)\u001b[0m\n\u001b[0;32m      6\u001b[0m m \u001b[38;5;241m=\u001b[39m l\u001b[38;5;241m+\u001b[39m(h\u001b[38;5;241m-\u001b[39ml)\u001b[38;5;241m/\u001b[39m\u001b[38;5;241m/\u001b[39m\u001b[38;5;241m2\u001b[39m\n\u001b[0;32m      7\u001b[0m mergeSort(arr,l,m)\n\u001b[1;32m----> 8\u001b[0m \u001b[43mmergeSort\u001b[49m\u001b[43m(\u001b[49m\u001b[43marr\u001b[49m\u001b[43m,\u001b[49m\u001b[43mm\u001b[49m\u001b[38;5;241;43m+\u001b[39;49m\u001b[38;5;241;43m1\u001b[39;49m\u001b[43m,\u001b[49m\u001b[43mh\u001b[49m\u001b[43m)\u001b[49m\n\u001b[0;32m      9\u001b[0m merge(arr,l,m,h)\n",
      "Cell \u001b[1;32mIn[77], line 9\u001b[0m, in \u001b[0;36mmergeSort\u001b[1;34m(arr, l, h)\u001b[0m\n\u001b[0;32m      7\u001b[0m mergeSort(arr,l,m)\n\u001b[0;32m      8\u001b[0m mergeSort(arr,m\u001b[38;5;241m+\u001b[39m\u001b[38;5;241m1\u001b[39m,h)\n\u001b[1;32m----> 9\u001b[0m \u001b[43mmerge\u001b[49m\u001b[43m(\u001b[49m\u001b[43marr\u001b[49m\u001b[43m,\u001b[49m\u001b[43ml\u001b[49m\u001b[43m,\u001b[49m\u001b[43mm\u001b[49m\u001b[43m,\u001b[49m\u001b[43mh\u001b[49m\u001b[43m)\u001b[49m\n",
      "Cell \u001b[1;32mIn[77], line 17\u001b[0m, in \u001b[0;36mmerge\u001b[1;34m(arr, l, m, h)\u001b[0m\n\u001b[0;32m     15\u001b[0m arr2 \u001b[38;5;241m=\u001b[39m [\u001b[38;5;241m0\u001b[39m]\u001b[38;5;241m*\u001b[39mn2\n\u001b[0;32m     16\u001b[0m \u001b[38;5;28;01mfor\u001b[39;00m i \u001b[38;5;129;01min\u001b[39;00m \u001b[38;5;28mrange\u001b[39m(l,m\u001b[38;5;241m+\u001b[39m\u001b[38;5;241m1\u001b[39m):\n\u001b[1;32m---> 17\u001b[0m     arr1\u001b[38;5;241m.\u001b[39mappend(\u001b[43marr1\u001b[49m\u001b[43m[\u001b[49m\u001b[43mi\u001b[49m\u001b[43m]\u001b[49m)\n\u001b[0;32m     18\u001b[0m \u001b[38;5;28;01mfor\u001b[39;00m i \u001b[38;5;129;01min\u001b[39;00m \u001b[38;5;28mrange\u001b[39m(m\u001b[38;5;241m+\u001b[39m\u001b[38;5;241m1\u001b[39m,h\u001b[38;5;241m+\u001b[39m\u001b[38;5;241m1\u001b[39m):\n\u001b[0;32m     19\u001b[0m     arr2\u001b[38;5;241m.\u001b[39mappend(arr[i])\n",
      "\u001b[1;31mIndexError\u001b[0m: list index out of range"
     ]
    }
   ],
   "source": [
    "#merge sort\n",
    "\n",
    "def mergeSort(arr,l,h):\n",
    "    if l>=h:\n",
    "        return\n",
    "    m = l+(h-l)//2\n",
    "    mergeSort(arr,l,m)\n",
    "    mergeSort(arr,m+1,h)\n",
    "    merge(arr,l,m,h)\n",
    "    \n",
    "def merge(arr,l,m,h):\n",
    "    n1 = m-l+1\n",
    "    n2 = h-m\n",
    "    arr1 = [0]*n1\n",
    "    arr2 = [0]*n2\n",
    "    for i in range(l,m+1):\n",
    "        arr1.append(arr1[i])\n",
    "    for i in range(m+1,h+1):\n",
    "        arr2.append(arr[i])\n",
    "    i = 0\n",
    "    j = 0\n",
    "    k = l \n",
    "    while(i<n1 and j<n2):\n",
    "        if arr1[i]<arr2[j]:\n",
    "            arr[k]=arr1[i]\n",
    "            i+=1\n",
    "        else:\n",
    "            arr[k] = arr2[j]\n",
    "            j+=1\n",
    "        k+=1\n",
    "    while(i<n1):\n",
    "        arr[k]=arr1[i]\n",
    "        i+=1\n",
    "        k+=1\n",
    "    while (j<n2):\n",
    "        arr[k]=arr2[j]\n",
    "        j+=1\n",
    "        k+=1\n",
    "    \n",
    "arr = list(map(int, input().split()))\n",
    "n = len(arr)\n",
    "mergeSort(arr,0,n-1)\n",
    "print(arr)"
   ]
  },
  {
   "cell_type": "code",
   "execution_count": null,
   "metadata": {},
   "outputs": [],
   "source": [
    "def mergeSort(arr, l, h):\n",
    "    if l < h:\n",
    "        m = (l + h) // 2\n",
    "        mergeSort(arr, l, m)\n",
    "        mergeSort(arr, m + 1, h)\n",
    "        merge(arr, l, m, h)\n",
    "\n",
    "def merge(arr, l, m, h):\n",
    "    n1 = m - l + 1\n",
    "    n2 = h - m\n",
    "\n",
    "    # Create temporary arrays\n",
    "    arr1 = [0] * n1\n",
    "    arr2 = [0] * n2\n",
    "\n",
    "    # Copy data to temporary arrays arr1[] and arr2[]\n",
    "    for i in range(n1):\n",
    "        arr1[i] = arr[l + i]\n",
    "    for j in range(n2):\n",
    "        arr2[j] = arr[m + 1 + j]\n",
    "\n",
    "    # Merge the two arrays back into arr[l..h]\n",
    "    i = j = 0  # Initial indices of first and second subarrays\n",
    "    k = l  # Initial index of merged subarray\n",
    "\n",
    "    while i < n1 and j < n2:\n",
    "        if arr1[i] <= arr2[j]:\n",
    "            arr[k] = arr1[i]\n",
    "            i += 1\n",
    "        else:\n",
    "            arr[k] = arr2[j]\n",
    "            j += 1\n",
    "        k += 1\n",
    "\n",
    "    # Copy the remaining elements of arr1[], if there are any\n",
    "    while i < n1:\n",
    "        arr[k] = arr1[i]\n",
    "        i += 1\n",
    "        k += 1\n",
    "\n",
    "    # Copy the remaining elements of arr2[], if there are any\n",
    "    while j < n2:\n",
    "        arr[k] = arr2[j]\n",
    "        j += 1\n",
    "        k += 1\n",
    "\n",
    "arr = list(map(int, input().split()))\n",
    "n = len(arr)\n",
    "mergeSort(arr, 0, n - 1)\n",
    "print(arr)\n"
   ]
  },
  {
   "cell_type": "code",
   "execution_count": 1,
   "metadata": {},
   "outputs": [
    {
     "name": "stdout",
     "output_type": "stream",
     "text": [
      "[1, 2, 4, 1, 10, 2, 0, 0, 0]\n"
     ]
    }
   ],
   "source": [
    "#moving zeros\n",
    "\n",
    "arr = list(map(int, input().split()))\n",
    "\n",
    "for i in range(len(arr)):\n",
    "    if arr[i] == 0:\n",
    "        j = i\n",
    "        while(j<len(arr)-1):\n",
    "            arr[j],arr[j+1] = arr[j+1],arr[j]\n",
    "            j+=1\n",
    "\n",
    "print(arr)\n"
   ]
  },
  {
   "cell_type": "code",
   "execution_count": 4,
   "metadata": {},
   "outputs": [
    {
     "data": {
      "text/plain": [
       "[1, 1, 11, 1, 2, 4, 0, 0, 0, 0]"
      ]
     },
     "execution_count": 4,
     "metadata": {},
     "output_type": "execute_result"
    }
   ],
   "source": [
    "#moving zeros\n",
    "\n",
    "arr = list(map(int, input().split()))\n",
    "i = 0\n",
    "j = 0\n",
    "while (j<len(arr)):\n",
    "    if arr[j]!=0:\n",
    "        arr[i]=arr[j]\n",
    "        i+=1\n",
    "        j+=1\n",
    "    else:\n",
    "        j+=1\n",
    "while (i<len(arr)):\n",
    "    arr[i]=0\n",
    "    i+=1\n",
    "arr"
   ]
  },
  {
   "cell_type": "code",
   "execution_count": 2,
   "metadata": {},
   "outputs": [
    {
     "name": "stdout",
     "output_type": "stream",
     "text": [
      "24\n"
     ]
    }
   ],
   "source": [
    "arr = list(map(int, input().split()))\n",
    "mx=0\n",
    "for i in range(len(arr)):\n",
    "    for j in range(len(arr)):\n",
    "        s = (arr[i]+arr[j])\n",
    "        if mx<s:\n",
    "            mx = s\n",
    "print(mx)"
   ]
  },
  {
   "cell_type": "code",
   "execution_count": null,
   "metadata": {},
   "outputs": [],
   "source": [
    "#kadane algorithm\n",
    "#maximum product subarray\n",
    "\n"
   ]
  },
  {
   "cell_type": "code",
   "execution_count": 19,
   "metadata": {},
   "outputs": [
    {
     "name": "stdout",
     "output_type": "stream",
     "text": [
      "[16, 6, 7, 8]\n"
     ]
    }
   ],
   "source": [
    "\n",
    "a = [12,2,3,4,5]\n",
    "a2 = []\n",
    "t = 0\n",
    "for i in range(len(a)-1):\n",
    "    for j in range(len(a)-1):\n",
    "        t = a[i]+a[j]\n",
    "    a2.append(t)\n",
    "print(a2)"
   ]
  }
 ],
 "metadata": {
  "kernelspec": {
   "display_name": "Python 3",
   "language": "python",
   "name": "python3"
  },
  "language_info": {
   "codemirror_mode": {
    "name": "ipython",
    "version": 3
   },
   "file_extension": ".py",
   "mimetype": "text/x-python",
   "name": "python",
   "nbconvert_exporter": "python",
   "pygments_lexer": "ipython3",
   "version": "3.11.4"
  }
 },
 "nbformat": 4,
 "nbformat_minor": 2
}
