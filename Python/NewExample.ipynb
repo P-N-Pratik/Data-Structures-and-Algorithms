{
 "cells": [
  {
   "cell_type": "code",
   "execution_count": 6,
   "metadata": {},
   "outputs": [
    {
     "data": {
      "text/plain": [
       "' create a function that takes the string and return =s a string with its letter in the alphabetical order'"
      ]
     },
     "execution_count": 6,
     "metadata": {},
     "output_type": "execute_result"
    }
   ],
   "source": [
    "''' create a function that takes the string and return =s a string with its letter in the alphabetical order'''\n",
    "\n",
    "# inpu=input()\n",
    "# newString=\"\";\n",
    "# for i in range(0,len(inpu)):\n",
    "#     for j in range(i+1,len(inpu)):\n",
    "#         if (int(ord(inpu[i]))<int(ord(inpu[j]))):\n",
    "#             newString+=inpu[i]\n",
    "# print(newString)\n",
    "\n",
    "#or\n",
    "\n",
    "# sort alphabets of the given string\n",
    "def sortAlpha(a):\n",
    "    b=(\"\".join(sorted(a)))\n",
    "    print(b)\n",
    "x=input()\n",
    "sortAlpha(x)\n",
    "\n"
   ]
  },
  {
   "cell_type": "code",
   "execution_count": 7,
   "metadata": {},
   "outputs": [
    {
     "name": "stdout",
     "output_type": "stream",
     "text": [
      "True\n"
     ]
    }
   ],
   "source": [
    "'''Xs and Os nobody Knows'''\n",
    "xcount=0\n",
    "ocount=0\n",
    "inpu=input()\n",
    "for x in inpu or X in inpu:\n",
    "    xcount+=1\n",
    "for o in inpu or O in inpu:\n",
    "    ocount+=1\n",
    "if(xcount==ocount):\n",
    "    print(\"True\")\n",
    "else:\n",
    "    print(\"False\")\n",
    "\n",
    "    "
   ]
  },
  {
   "cell_type": "code",
   "execution_count": 11,
   "metadata": {},
   "outputs": [
    {
     "name": "stdout",
     "output_type": "stream",
     "text": [
      "0\n"
     ]
    }
   ],
   "source": [
    "''' Hamming code The difference between string1 and String2'''\n",
    "\n",
    "string1=input()\n",
    "string2=input()\n",
    "remaining=String\n",
    "count=0\n",
    "for i in range(0,len(string1)):\n",
    "    if(string1[i]!=string2[i]):\n",
    "        count+=1\n",
    "print(count)"
   ]
  },
  {
   "cell_type": "code",
   "execution_count": 18,
   "metadata": {},
   "outputs": [
    {
     "name": "stdout",
     "output_type": "stream",
     "text": [
      "0 --> s\n",
      "1 --> o\n",
      "2 --> w\n",
      "3 --> b\n",
      "4 --> a\n",
      "5 --> r\n",
      "6 --> n\n",
      "7 --> i\n",
      "8 --> k\n",
      "9 --> a\n"
     ]
    }
   ],
   "source": [
    "\n",
    "'''ennumerate'''\n",
    "\n",
    "s=\"sowbarnika\"\n",
    "\n",
    "for i,ch in enumerate(s):\n",
    "    print(i ,\"-->\", ch)"
   ]
  },
  {
   "cell_type": "code",
   "execution_count": 16,
   "metadata": {},
   "outputs": [
    {
     "name": "stdout",
     "output_type": "stream",
     "text": [
      "0\n"
     ]
    }
   ],
   "source": [
    "''' zip()'''\n",
    "\n",
    "\n",
    "def hamming_code(text1,text2):\n",
    "    return sum(a!=b for a,b in zip(text1,text2))\n",
    "\n",
    "print(hamming_code(\"abcd\",\"abcd\"))\n"
   ]
  },
  {
   "cell_type": "code",
   "execution_count": 38,
   "metadata": {},
   "outputs": [
    {
     "name": "stdout",
     "output_type": "stream",
     "text": [
      "['hello', 'bello', 'cello']\n",
      "hbc\n",
      "hbc\n"
     ]
    }
   ],
   "source": [
    "'''Secret Society Problem'''\n",
    "\n",
    "# a=input().split()\n",
    "# newString=\"\"\n",
    "# secretSoc=\"\"\n",
    "# print(a)\n",
    "# for i in a:\n",
    "#     newString+=i[0]\n",
    "# print(newString)\n",
    "\n",
    "\n",
    "\n",
    "# for i in range(0,len(newString)):\n",
    "#     min=i\n",
    "#     for j in range(i+1,len(newString)):\n",
    "        \n",
    "        \n",
    "#         if( int(ord(newString[min]))> int(ord(newString[j])) ):\n",
    "#             min=j\n",
    "\n",
    "#         if(min!=i):\n",
    "#             temp=a[i]\n",
    "#             newString=newString.replace(a[i],a[min])\n",
    "#             newString=newString.replace(a[min],temp)\n",
    "\n",
    "        \n",
    "    \n",
    "# print(newString)\n",
    "\n",
    "#or\n",
    "\n",
    "# Secret Society Problem\n",
    "a=input().split()\n",
    "print(a)\n",
    "b=[]\n",
    "for i in a:\n",
    "    b.append(i[0])\n",
    "c=(\"\".join(sorted(b)))\n",
    "print(f\"{c} is the secret society\")\n",
    "\n",
    "\n",
    "#or\n",
    "\n",
    "n = int(input())\n",
    "a,b = [],[]\n",
    "for i in range(n):\n",
    "    a.append(input())\n",
    "    b.append(a[i][0])\n",
    "\n",
    "x = sorted(b)\n",
    "ans = \"\"\n",
    "for i in range(n):\n",
    "    ans += x[i]\n",
    "print(ans)"
   ]
  },
  {
   "cell_type": "code",
   "execution_count": null,
   "metadata": {},
   "outputs": [],
   "source": [
    "\n",
    "''' letters Only'''\n",
    "\n",
    "\n",
    "import string\n",
    "s = input()\n",
    "ans = \"\"\n",
    "for i in s:\n",
    "    if i in string.ascii_letters:#(i >= 'a' and i <= 'z') or (i >= 'A' and i <= 'Z'):\n",
    "        ans += i\n",
    "print(ans)\n",
    "# import string\n",
    "# print(string.ascii_letters)\n",
    "\n"
   ]
  },
  {
   "cell_type": "code",
   "execution_count": 42,
   "metadata": {},
   "outputs": [
    {
     "name": "stdout",
     "output_type": "stream",
     "text": [
      "abc\n"
     ]
    }
   ],
   "source": [
    "'''Upper to Lower Case'''\n",
    "\n",
    "str=\"abC\"\n",
    "# for i in range(0,len(str)):\n",
    "#     if(str[i].is)\n",
    "        \n",
    "for i in str:\n",
    "    if i.isupper():\n",
    "        str=str.replace(i,i.swapcase())\n",
    "print(str)"
   ]
  },
  {
   "cell_type": "code",
   "execution_count": null,
   "metadata": {},
   "outputs": [],
   "source": [
    "''' Reverse Words'''\n",
    "\n",
    "text = input()\n",
    "print(\"\".join(text.split()[::-1]))"
   ]
  },
  {
   "cell_type": "code",
   "execution_count": 135,
   "metadata": {},
   "outputs": [
    {
     "name": "stdout",
     "output_type": "stream",
     "text": [
      "The String is ParaGram\n"
     ]
    }
   ],
   "source": [
    "''' HomeWork-> 1. check the given string are paragram are not that means it contains all the 26 alphabets'''\n",
    "'''2. check the given Two Strings are Anagram or not'''\n",
    "\n",
    "# Paragram\n",
    "b=[]\n",
    "# for i in range(65,91):\n",
    "#     b.append(chr(i))\n",
    "# for i in range(97,123):\n",
    "#     b.append(chr(i))\n",
    "    \n",
    "\n",
    "# result=\"\".join(b)\n",
    "# print(result)\n",
    "#or\n",
    "import string\n",
    "result=string.ascii_letters\n",
    "\n",
    "first=True\n",
    "second=True\n",
    "condition=True\n",
    "flag1=1\n",
    "flag2=1\n",
    "# print(result)\n",
    "str=\"abcdefghijklmnopqrstuvwxyz\"\n",
    "condition=True\n",
    "for i in string.ascii_lowercase:\n",
    "    if i in str:\n",
    "        continue\n",
    "    else:\n",
    "        flag1=0\n",
    "\n",
    "for i in string.ascii_uppercase:\n",
    "    if i in str:\n",
    "        continue\n",
    "    else:\n",
    "        flag2=0\n",
    "\n",
    "if(flag1==1 or flag2==1):\n",
    "    print(\"The String is ParaGram\")\n",
    "else:\n",
    "    print(\"Not a Paragram \")\n",
    "\n",
    "\n",
    "# Anagram\n",
    "    \n",
    "    # Check the given string is anagram or not\n",
    "def are_anagrams(str1, str2):\n",
    "    str1 = str1.replace(\" \", \"\").lower()\n",
    "    str2 = str2.replace(\" \", \"\").lower()\n",
    "    return sorted(str1) == sorted(str2)\n",
    "string1 = input(\"Enter the first string: \")\n",
    "string2 = input(\"Enter the second string: \")\n",
    "if are_anagrams(string1, string2):\n",
    "    print(\"The given strings are anagrams.\")\n",
    "else:\n",
    "    print(\"The given strings are not anagrams.\")\n",
    "\n"
   ]
  },
  {
   "cell_type": "code",
   "execution_count": 43,
   "metadata": {},
   "outputs": [
    {
     "name": "stdout",
     "output_type": "stream",
     "text": [
      "[] <class 'list'>\n",
      "[] <class 'list'>\n"
     ]
    }
   ],
   "source": [
    "'''Creation of Empty List'''\n",
    "\n",
    "parul=[]\n",
    "print(parul,type(parul))\n",
    "parul=list()\n",
    "print(parul,type(parul))\n"
   ]
  },
  {
   "cell_type": "code",
   "execution_count": 47,
   "metadata": {},
   "outputs": [
    {
     "name": "stdout",
     "output_type": "stream",
     "text": [
      "9\n"
     ]
    }
   ],
   "source": [
    "'''List Function and Methos()'''\n",
    "\n",
    "list1=[1,2,3,4,5,6,7,8,9]\n",
    "print(max(list1))"
   ]
  },
  {
   "cell_type": "code",
   "execution_count": null,
   "metadata": {},
   "outputs": [],
   "source": [
    "'''typeCasting'''\n",
    "\n",
    "x=()\n",
    "y=()\n",
    "a=list(x)\n",
    "b=list(y)"
   ]
  },
  {
   "cell_type": "code",
   "execution_count": 10,
   "metadata": {},
   "outputs": [
    {
     "name": "stdout",
     "output_type": "stream",
     "text": [
      "[100, 500, 'hello', [1, 2, 3], 1, 2, 3]\n"
     ]
    }
   ],
   "source": [
    "parul=[]\n",
    "# parul.append(int(input()))\n",
    "parul.append(100)\n",
    "parul.append(\"hello\")\n",
    "parul.append([1,2,3])\n",
    "parul.extend([1,2,3])\n",
    "parul.insert(1,500)\n",
    "print(parul)"
   ]
  },
  {
   "cell_type": "code",
   "execution_count": 12,
   "metadata": {},
   "outputs": [
    {
     "name": "stdout",
     "output_type": "stream",
     "text": [
      "[100, 500, [1, 2, 3], 1, 2]\n",
      "[100, 500, [1, 2, 3], 1]\n",
      "[100, 500, 1]\n",
      "[100, 1]\n"
     ]
    }
   ],
   "source": [
    "print(parul)\n",
    "parul.pop()\n",
    "print(parul)\n",
    "parul.pop(2)\n",
    "print(parul)\n",
    "parul.remove(500)\n",
    "print(parul)"
   ]
  },
  {
   "cell_type": "code",
   "execution_count": 126,
   "metadata": {},
   "outputs": [
    {
     "ename": "IndexError",
     "evalue": "pop index out of range",
     "output_type": "error",
     "traceback": [
      "\u001b[1;31m---------------------------------------------------------------------------\u001b[0m",
      "\u001b[1;31mIndexError\u001b[0m                                Traceback (most recent call last)",
      "Cell \u001b[1;32mIn[126], line 16\u001b[0m\n\u001b[0;32m     14\u001b[0m     b\u001b[38;5;241m.\u001b[39mappend(\u001b[38;5;241m23\u001b[39m)\n\u001b[0;32m     15\u001b[0m     value\u001b[38;5;241m=\u001b[39mb[i]\n\u001b[1;32m---> 16\u001b[0m     \u001b[43mb\u001b[49m\u001b[38;5;241;43m.\u001b[39;49m\u001b[43mpop\u001b[49m\u001b[43m(\u001b[49m\u001b[43mvalue\u001b[49m\u001b[43m)\u001b[49m\n\u001b[0;32m     19\u001b[0m \u001b[38;5;28mprint\u001b[39m(a)\n\u001b[0;32m     20\u001b[0m \u001b[38;5;28mprint\u001b[39m(b)\n",
      "\u001b[1;31mIndexError\u001b[0m: pop index out of range"
     ]
    }
   ],
   "source": [
    "'''pop the value in the index behind the #'''\n",
    "\n",
    "a=[\"a\",\"b\",\"#\",\"c\",\"d\",\"#\"]\n",
    "b=[]\n",
    "\n",
    "for i in a:\n",
    "\n",
    "    if(a[i]==\"#\"):\n",
    "        a.pop(i)\n",
    "        a.pop(i-1)\n",
    "\n",
    "\n",
    "\n",
    "\n",
    "print(a)\n",
    "print(b)\n",
    "    # if(a[i]==\"#\"):\n",
    "    #     a.pop(i)\n",
    "    #     a.pop(i-1)\n",
    "\n",
    "\n",
    "\n",
    "\n",
    "#or\n",
    "\n",
    "# s = input()\n",
    "# l = []\n",
    "# for i in s:\n",
    "#     if i != '#':\n",
    "#         l.append(i)\n",
    "#     elif i == '#' and len(l) > 0:\n",
    "#         l.pop()\n",
    "\n",
    "# ans = \"\"\n",
    "# for i in l:\n",
    "#     ans += i\n",
    "# print(ans)"
   ]
  },
  {
   "cell_type": "code",
   "execution_count": null,
   "metadata": {},
   "outputs": [],
   "source": [
    "# BackSpace Implementation \n",
    "\n",
    "text=input()\n",
    "res=[]\n",
    "for i in text:\n",
    "    if i!='#':\n",
    "        res.append(i)\n",
    "    elif(len(res)>0):\n",
    "        res.pop()\n",
    "\n",
    "print(\"\".join(res))"
   ]
  },
  {
   "cell_type": "code",
   "execution_count": 16,
   "metadata": {},
   "outputs": [
    {
     "name": "stdout",
     "output_type": "stream",
     "text": [
      "[10, 34, 19, 100, 2, 78]\n",
      "[2, 10, 19, 34, 78, 100]\n"
     ]
    }
   ],
   "source": [
    "'''sort()->Applied only for the list(Modifies the Original) and sorted()->Apllied on everyone(cant Modify the original)'''\n",
    "\n",
    "#sort\n",
    "li=[10,34,19,100,2,78]\n",
    "print(li)\n",
    "li.sort()\n",
    "#sorted(li)\n",
    "print(li)"
   ]
  },
  {
   "cell_type": "code",
   "execution_count": 17,
   "metadata": {},
   "outputs": [
    {
     "name": "stdout",
     "output_type": "stream",
     "text": [
      "[10, 34, 19, 100, 2, 78]\n",
      "[10, 34, 19, 100, 2, 78]\n",
      "[100, 78, 34, 19, 10, 2]\n"
     ]
    }
   ],
   "source": [
    "'''sorting the list in the descending order '''\n",
    "\n",
    "#sorted\n",
    "li=[10,34,19,100,2,78]\n",
    "print(li)\n",
    "rev=sorted(li,reverse=True)\n",
    "print(li)\n",
    "print(rev)"
   ]
  },
  {
   "cell_type": "code",
   "execution_count": 20,
   "metadata": {},
   "outputs": [
    {
     "name": "stdout",
     "output_type": "stream",
     "text": [
      "[10, 34, 19, 100, 2, 78]\n",
      "[78, 2, 100, 19, 34, 10]\n",
      "[10, 34, 19, 100, 2, 78]\n"
     ]
    }
   ],
   "source": [
    "'''reverse()->for lists only(Modifies the original)  & reversed()->for any sequence(does not modifies the original)and stores the values in the object(Memory)'''\n",
    "#reverse\n",
    "li=[10,34,19,100,2,78]\n",
    "print(li)\n",
    "li.reverse()\n",
    "print(li)\n",
    "\n",
    "#reversed\n",
    "res=list(reversed(li))\n",
    "print(res)"
   ]
  },
  {
   "cell_type": "code",
   "execution_count": null,
   "metadata": {},
   "outputs": [],
   "source": [
    "'''list Comprehension'''\n",
    "\n",
    "'''python code for square of numbers'''\n",
    "\n",
    "N = int(input())\n",
    "# square=[]\n",
    "# for i in range (1,N+1):\n",
    "#     square.append(i*i)\n",
    "# print(square)\n",
    "\n",
    "'''The same code did using the list Comprehension'''\n",
    "\n",
    "square=[i*i for i in range(1,N+1)]\n",
    "print(square)\n",
    "\n"
   ]
  },
  {
   "cell_type": "code",
   "execution_count": null,
   "metadata": {},
   "outputs": [],
   "source": [
    "N=int(input())\n",
    "res=[((i+j)*10) for i in range(1,N+1) for j in range(1,N+1)]\n",
    "print(res)\n"
   ]
  },
  {
   "cell_type": "code",
   "execution_count": null,
   "metadata": {},
   "outputs": [],
   "source": [
    "my_list=['p','q']\n",
    "n=4\n",
    "new_list=['{}{}'.format(x,y) for y in range(1,n+1) for x in my_list]\n",
    "print(new_list)"
   ]
  },
  {
   "cell_type": "code",
   "execution_count": null,
   "metadata": {},
   "outputs": [],
   "source": [
    "\n",
    "'''WAP return the letters in the String that are not vowels that is consonants of the string'''\n",
    "n=(input()).lower()\n",
    "vow=\"aeiou\"\n",
    "res=[i for i in n if i not in vow]\n",
    "print(res)\n"
   ]
  },
  {
   "cell_type": "code",
   "execution_count": 28,
   "metadata": {},
   "outputs": [
    {
     "name": "stdout",
     "output_type": "stream",
     "text": [
      "[0, 3]\n"
     ]
    }
   ],
   "source": [
    "'''Return the index of the UpperCase Letters'''\n",
    "\n",
    "n=input()\n",
    "res=[i for i in range(0,len(n)) if int(ord(n[i])<91 and int(ord(n[i])>=65))]\n",
    "print(res)"
   ]
  },
  {
   "cell_type": "code",
   "execution_count": null,
   "metadata": {},
   "outputs": [],
   "source": [
    "''' Generate Group of five Consecutive Numbers in a list'''\n",
    "\n",
    "l=[[5*i+j for i in range(1,6)] for i in range(5)]\n",
    "print(l)"
   ]
  },
  {
   "cell_type": "code",
   "execution_count": null,
   "metadata": {},
   "outputs": [],
   "source": [
    "'''to append the '0's in the end of the list'''\n",
    "num_list=[0,1]\n",
    "zero=[0 for i in range(num_list.count(0))]\n",
    "res_list=[i for i in num_list if i!= 0]\n",
    "res_list.extend(zero)\n",
    "print(res_list)\n"
   ]
  },
  {
   "cell_type": "code",
   "execution_count": 29,
   "metadata": {},
   "outputs": [
    {
     "name": "stdout",
     "output_type": "stream",
     "text": [
      "[1, 2, 3]\n"
     ]
    }
   ],
   "source": [
    "'''Generate a Unique List'''\n",
    "\n",
    "my_list=[1,2,3,1,2,3]\n",
    "res_list=[]\n",
    "my_list=[res_list.append(i) for i in my_list if i not in res_list]\n",
    "print(res_list)\n"
   ]
  },
  {
   "cell_type": "code",
   "execution_count": null,
   "metadata": {},
   "outputs": [],
   "source": [
    "''' WAP '''\n",
    "'''append() insert() '''\n",
    "# WAP to implement append,insert,pop,sort,reverse,display commands\n",
    "# li=[]\n",
    "# prog = True\n",
    "# while prog:\n",
    "#     dict={1:\"append()\", 2:\"insert()\",3:\"pop()\",4:\"sort()\",5:\"reverse()\",6:\"display()\",7:\"END()\"}\n",
    "#     print(dict)\n",
    "#     choice=int(input(\"Choose a command you want to perform\"))\n",
    "#     if choice==1:\n",
    "#         li.append(input(\"Enter the element to be appended: \"))\n",
    "#         print(\"Element appended\")\n",
    "#     elif choice==2:\n",
    "#         c=input('Enter the element: ')\n",
    "#         b=int(input(\"Enter the index\"))\n",
    "#         li.insert(b,c)\n",
    "#         print(\"Element inserted\")\n",
    "#     elif choice==3:\n",
    "#         li.pop()\n",
    "#         print(\"Element Poppped\")\n",
    "#     elif choice==4:\n",
    "#         li.sort()\n",
    "#         print(\"list sorted\")\n",
    "#     elif choice==5:\n",
    "#         li.reverse()\n",
    "#         print(\"list reversed\")\n",
    "#     elif choice==6:\n",
    "#         print(f\"The list is: {li}\")\n",
    "#     elif choice==7:\n",
    "#         prog=False\n",
    "#     else:\n",
    "#         print(\"Enter valid command\")\n",
    "\n",
    "        #or\n",
    "\n",
    "\n",
    "#write a program to do built in function\n",
    "n=int(input(\"enter no. of commands: \"))\n",
    "li=[]\n",
    "while n>0:\n",
    "    cmd=input().split()\n",
    "    if cmd[0]==\"insert\":\n",
    "        li.insert(int(cmd[1]),cmd[2])\n",
    "    elif cmd[0]==\"pop\":\n",
    "        if len(li)>0:\n",
    "            li.pop()\n",
    "    elif cmd[0]==\"append\":\n",
    "        li.append(cmd[1])\n",
    "    elif cmd[0]==\"sort\":\n",
    "        if len(li)>0:\n",
    "            li.sort()\n",
    "    elif cmd[0]==\"reverse\":\n",
    "        if len(li)>0:\n",
    "            li.reverse()\n",
    "    elif cmd[0]==\"display\":\n",
    "        print(li)\n",
    "    n=n-1\n",
    "    \n"
   ]
  },
  {
   "cell_type": "code",
   "execution_count": 73,
   "metadata": {},
   "outputs": [
    {
     "name": "stdout",
     "output_type": "stream",
     "text": [
      " #  #  #  #  # \n",
      " #  $  $  $  # \n",
      " #  $  $  $  # \n",
      " #  $        # \n",
      " #  #  #  #  # \n"
     ]
    }
   ],
   "source": [
    "\n",
    "# print filled Hollows\n",
    "\n",
    "n=int(input())\n",
    "num=int(input(\"Enter the Number : \"))\n",
    "for i in range(0,n):\n",
    "    for j in range(0,n):\n",
    "        if(i==0 or i==n-1):\n",
    "            print(\" # \",end=\"\")\n",
    "        elif(j>=1 and j<n-1):\n",
    "            if(num>0):\n",
    "                print(\" $ \",end=\"\")\n",
    "                num-=1\n",
    "            else:\n",
    "                print(\"   \",end=\"\")\n",
    "        else:\n",
    "            print(\" # \",end=\"\")\n",
    "    print(\"\\n\",end=\"\")\n",
    "\n",
    "   \n",
    "\n",
    "    # or\n"
   ]
  },
  {
   "cell_type": "code",
   "execution_count": 61,
   "metadata": {},
   "outputs": [
    {
     "name": "stdout",
     "output_type": "stream",
     "text": [
      "('p', 'y', 't', 'h', 'o', 'n')\n",
      "h\n",
      "t\n"
     ]
    }
   ],
   "source": [
    "\n",
    "''' Tuple()'''\n",
    "\n",
    "tuplex = (\"p\",\"y\",\"t\",\"h\",\"o\",\"n\")\n",
    "print(tuplex)\n",
    "\n",
    "item=tuplex[3]\n",
    "print(item)\n",
    "\n",
    "item1=tuplex[-4]\n",
    "print(item1)"
   ]
  },
  {
   "cell_type": "code",
   "execution_count": null,
   "metadata": {},
   "outputs": [],
   "source": [
    "def same (tup):\n",
    "    "
   ]
  },
  {
   "cell_type": "code",
   "execution_count": 63,
   "metadata": {},
   "outputs": [
    {
     "name": "stdout",
     "output_type": "stream",
     "text": [
      "set() <class 'set'>\n",
      "{} <class 'dict'>\n",
      "{0, True, 100, 20, 'Hello', 200, 'hai'} <class 'set'>\n"
     ]
    }
   ],
   "source": [
    "'''Set()-> It is Unordered and cant be accessed by index value as it is not stored in the contiguous manner'''\n",
    "\n",
    "s= set()\n",
    "print(s,type(s))\n",
    "\n",
    "s={}\n",
    "print(s,type(s))\n",
    "\n",
    "s={100,200,\"hai\",True,1,0,False,100,20,\"Hello\"}\n",
    "print(s,type(s))\n",
    "\n",
    "'''Set is an unordered collection of values separated by commas and enclosed in {}\n",
    "Set does not contain any duplicate value, set is mutable and frozen set is immutable.\n",
    "set is not subscriptable.'''\n"
   ]
  },
  {
   "cell_type": "code",
   "execution_count": 75,
   "metadata": {},
   "outputs": [
    {
     "name": "stdout",
     "output_type": "stream",
     "text": [
      "{0, True, 100, 20, 'Hello', 200, 'hai'}\n",
      "{0, True, 50, 100, 20, 'Hello', 200, 'hai'}\n",
      "{0, True, 200, 10, 'hai', 20, 100, 50, 'Hello'}\n",
      "{0, True, 'l', 200, 10, 'hai', 'e', 'h', 'o', 20, 100, 'i', 'good', 50, 'a', 'Hello', 'Hope'}\n"
     ]
    }
   ],
   "source": [
    "\n",
    "'''set methods'''\n",
    "s={100,200,\"hai\",True,1,0,False,100,20,\"Hello\"}\n",
    "\n",
    "s.add(100)\n",
    "print(s)\n",
    "s.add(50)\n",
    "print(s)\n",
    "s.add(10)\n",
    "print(s)\n",
    "s.update(\"hai\",\"hello\")\n",
    "s.update([\"good\",\"Hope\"])\n",
    "print(s)\n",
    "s.remove(200) # removes the Item ,if the value is not found gives the error\n",
    "s.discard(200) # if value not found then Does not gives the error"
   ]
  },
  {
   "cell_type": "code",
   "execution_count": null,
   "metadata": {},
   "outputs": [],
   "source": [
    "'''copy()'''\n",
    "x={11,22,33,44}\n",
    "y=x.copy()\n",
    "print(x)\n",
    "print(y)\n",
    "'''clear()'''\n",
    "y.clear() # Only clears the items but the object is still alive\n",
    "print(y)\n",
    "del y # this means the object or the Variable is also removed from the memory.\n"
   ]
  },
  {
   "cell_type": "code",
   "execution_count": 114,
   "metadata": {},
   "outputs": [
    {
     "name": "stdout",
     "output_type": "stream",
     "text": [
      "1       5 \n",
      "\n",
      "  2   4   \n",
      "\n",
      "    3     \n",
      "\n",
      "  2   4   \n",
      "\n",
      "1       5 \n",
      "\n"
     ]
    }
   ],
   "source": [
    "\n",
    "'''Pattern'''\n",
    "n=int(input())\n",
    "# for i in range(0,n):\n",
    "#     for j in range(0,n):\n",
    "#         if(i==j):\n",
    "#             print(i+1,end=\"\")\n",
    "#         else:\n",
    "#             print(\" \",end=\"\")\n",
    "\n",
    "\n",
    "#     for k in range(n,0):\n",
    "#         for l in range(n,0):\n",
    "#             if(k==l):\n",
    "\n",
    "#                 print(l,end=\"\")\n",
    "#             else:\n",
    "#                 print(\" \",end=\"\")\n",
    "#     print(\"\\n\")\n",
    "\n",
    "# for i in range(n,0):\n",
    "#     for j in range(n,0):\n",
    "#         if(i==j):\n",
    "#             if(i!=\"\"):\n",
    "#                 print(i,end=\"\")\n",
    "#             else:\n",
    "#                 print(\" \",end=\"\")\n",
    "\n",
    "\n",
    "for i in range (0,n):\n",
    "    for j in range(0,n):\n",
    "        if(i==j):\n",
    "            print(i+1,end=\" \")\n",
    "        elif(j==(n-1-i)):\n",
    "\n",
    "            print(n-i,end=\" \")\n",
    "        else:\n",
    "            print(\" \",end=\" \")\n",
    "\n",
    "    print(\"\\n\")\n"
   ]
  },
  {
   "cell_type": "code",
   "execution_count": 120,
   "metadata": {},
   "outputs": [
    {
     "name": "stdout",
     "output_type": "stream",
     "text": [
      "1       5 \n",
      "\n",
      "  2   4   \n",
      "\n",
      "    3     \n",
      "\n"
     ]
    }
   ],
   "source": [
    "'''Pattern'''\n",
    "\n",
    "n=int(input())\n",
    "\n",
    "for i in range (0,(n//2)+1):\n",
    "    for j in range(0,n):\n",
    "        if(i==j):\n",
    "            print(i+1,end=\" \")\n",
    "        elif(j==(n-1-i)):\n",
    "            print(n-i,end=\" \")\n",
    "        else:\n",
    "            print(\" \",end=\" \")\n",
    "            \n",
    "\n",
    "\n",
    "    print(\"\\n\")"
   ]
  },
  {
   "cell_type": "code",
   "execution_count": 1,
   "metadata": {},
   "outputs": [
    {
     "name": "stdout",
     "output_type": "stream",
     "text": [
      "{1, 2, 3, 4, 5}\n",
      "{2, 3, 4, 5}\n"
     ]
    }
   ],
   "source": [
    "'''Remove items from the set{}'''\n",
    "\n",
    "num_set=set([0,1,2,3,4,5])\n",
    "num_set.pop()  # removes the element randomly.\n",
    "print(num_set)\n",
    "num_set.pop()\n",
    "print(num_set)"
   ]
  },
  {
   "cell_type": "code",
   "execution_count": 2,
   "metadata": {},
   "outputs": [
    {
     "name": "stdout",
     "output_type": "stream",
     "text": [
      "{'pandas', 'Numpy'}\n"
     ]
    }
   ],
   "source": [
    "'''Union of sets'''\n",
    "\n",
    "lib1=set([\"Numpy\"])\n",
    "lib2=set([\"pandas\"])\n",
    "lib3=lib1|lib2  # or lib3=lib1.union(lib2)\n",
    "print(lib3)"
   ]
  },
  {
   "cell_type": "code",
   "execution_count": 3,
   "metadata": {},
   "outputs": [
    {
     "name": "stdout",
     "output_type": "stream",
     "text": [
      "{'pandas', 'teli'}\n",
      "{'teli'}\n"
     ]
    }
   ],
   "source": [
    "'''Symmetric difference'''\n",
    "\n",
    "lib1=set([\"Numpy\",\"teli\"])\n",
    "lib2=set([\"pandas\",\"Numpy\"])\n",
    "lib3=lib1^lib2\n",
    "print(lib3)\n",
    "\n",
    "'''Diference'''\n",
    "lib3=lib1-lib2\n",
    "print(lib3)"
   ]
  },
  {
   "cell_type": "code",
   "execution_count": 5,
   "metadata": {},
   "outputs": [
    {
     "name": "stdout",
     "output_type": "stream",
     "text": [
      "False\n",
      "False\n",
      "True\n",
      "True\n"
     ]
    }
   ],
   "source": [
    "'''issubset and issuperset'''\n",
    "\n",
    "lib1=set([\"Numpy\",\"teli\"])\n",
    "lib2=set([\"pandas\",\"Numpy\"])\n",
    "lib3=set([\"pandas\"])\n",
    "issubset=lib1<=lib2\n",
    "print(issubset)\n",
    "\n",
    "issuperset=lib1>=lib2\n",
    "print(issuperset)\n",
    "issubset=lib3<=lib2\n",
    "print(issubset)\n",
    "issuperset=lib2>=lib3\n",
    "print(issuperset)"
   ]
  },
  {
   "cell_type": "code",
   "execution_count": null,
   "metadata": {},
   "outputs": [],
   "source": [
    "'''set vs frozenset \n",
    "1. set is mutable where frozenset is not\n",
    "2. s=set() '''\n",
    "\n",
    "'''Frozensets'''\n",
    "\n",
    "x=frozenset([1,2,3,4,5])\n",
    "y=frozenset([3,4,5,6,7])\n",
    "\n",
    "print(x-y) # difference\n",
    "print(x|y) # Union\n",
    "print(x&y) # Intersection\n"
   ]
  },
  {
   "cell_type": "code",
   "execution_count": null,
   "metadata": {},
   "outputs": [],
   "source": [
    "\n",
    "'''isdisjoint() and difference()'''\n",
    "x=frozenset([1,2,3,4,5])\n",
    "y=frozenset([3,4,5,6,7])\n",
    "\n",
    "print(x.isdisjoint(y))  # return true if the set has no  element in common\n",
    "print(x.difference(y)) # "
   ]
  },
  {
   "cell_type": "code",
   "execution_count": 24,
   "metadata": {},
   "outputs": [
    {
     "name": "stdout",
     "output_type": "stream",
     "text": [
      "{1, 4, 9, 16, 25}\n",
      "{1, 4, 9, 16, 25}\n"
     ]
    }
   ],
   "source": [
    "'''Set comprehension'''\n",
    "\n",
    "square={i*i for i in range(1,6)}\n",
    "print(square)\n",
    "\n",
    "\n",
    "'''Same program by set'''\n",
    "\n",
    "square =set()\n",
    "for i in range(1,6):\n",
    "    square.add(i*i)\n",
    "print(square)"
   ]
  },
  {
   "cell_type": "code",
   "execution_count": 27,
   "metadata": {},
   "outputs": [
    {
     "name": "stdout",
     "output_type": "stream",
     "text": [
      "set()\n"
     ]
    }
   ],
   "source": [
    "''' WAP  That return the wrod that has the length of the word less than 4'''\n",
    "\n",
    "# str=input()\n",
    "# str={\"Happy\", \"code\", \"with\",\"anu\"}\n",
    "\n",
    "# sol={word for word in str if len(word)<=3}\n",
    "# print(sol)\n",
    "\n",
    "#or \n",
    "sol={word for word in input().split() if len(word)<=3}\n",
    "print(sol)\n",
    "\n"
   ]
  },
  {
   "cell_type": "code",
   "execution_count": 32,
   "metadata": {},
   "outputs": [
    {
     "name": "stdout",
     "output_type": "stream",
     "text": [
      "{'HELLO'}\n"
     ]
    }
   ],
   "source": [
    "'''WAP convert to uppercase which words start with h'''\n",
    "\n",
    "sol={word.upper() for word in input().split() if word.startswith(\"h\")}\n",
    "print(sol)"
   ]
  },
  {
   "cell_type": "code",
   "execution_count": 33,
   "metadata": {},
   "outputs": [
    {
     "name": "stdout",
     "output_type": "stream",
     "text": [
      "{frozenset({'g', 'd'}), frozenset({'h'}), frozenset({'h', 'v'}), frozenset({'n', 'd', 'g', 'c'}), frozenset(), frozenset({'y', 'h', 'p'}), frozenset({'y', 'd'})}\n"
     ]
    }
   ],
   "source": [
    "'''Nested set Comprehension'''\n",
    "\n",
    "sentence = {\"hi\",\"have\",\"a\",\"good\",\"day\",\"happy\",\"coding\"}\n",
    "vowels =['a','e','i','o','u']\n",
    "consonants={frozenset({letter for letter in word if letter not in vowels}) for word in sentence }\n",
    "print(consonants)"
   ]
  },
  {
   "cell_type": "code",
   "execution_count": 1,
   "metadata": {},
   "outputs": [
    {
     "ename": "TypeError",
     "evalue": "cannot unpack non-iterable int object",
     "output_type": "error",
     "traceback": [
      "\u001b[1;31m---------------------------------------------------------------------------\u001b[0m",
      "\u001b[1;31mTypeError\u001b[0m                                 Traceback (most recent call last)",
      "Cell \u001b[1;32mIn[1], line 8\u001b[0m\n\u001b[0;32m      6\u001b[0m a_set\u001b[38;5;241m=\u001b[39m[]\n\u001b[0;32m      7\u001b[0m happiness\u001b[38;5;241m=\u001b[39m\u001b[38;5;241m0\u001b[39m\n\u001b[1;32m----> 8\u001b[0m happy,sad\u001b[38;5;241m=\u001b[39m\u001b[38;5;241m0\u001b[39m\n\u001b[0;32m      9\u001b[0m \u001b[38;5;28;01mfor\u001b[39;00m i \u001b[38;5;129;01min\u001b[39;00m \u001b[38;5;28mrange\u001b[39m(\u001b[38;5;241m0\u001b[39m,m):\n\u001b[0;32m     10\u001b[0m     arr\u001b[38;5;241m.\u001b[39mappend(\u001b[38;5;28mint\u001b[39m(\u001b[38;5;28minput\u001b[39m(\u001b[38;5;124m\"\u001b[39m\u001b[38;5;124mEnter the Array Elements : \u001b[39m\u001b[38;5;124m\"\u001b[39m)))\n",
      "\u001b[1;31mTypeError\u001b[0m: cannot unpack non-iterable int object"
     ]
    }
   ],
   "source": [
    "\n",
    "'''Sets Problem   (Happiness Problem )'''\n",
    "\n",
    "n,m=int(input(\"Enter n\")),int(input(\"Enter m\"))\n",
    "arr=[]\n",
    "b_set=[]\n",
    "a_set=[]\n",
    "happiness=0\n",
    "happy,sad=0,0\n",
    "for i in range(0,m):\n",
    "    arr.append(int(input(\"Enter the Array Elements : \")))\n",
    "# arr=[int(input(\"Enter the Array elements : \"))]\n",
    "    \n",
    "for i in range(0,n):\n",
    "    a.add(int(input(\"Enter the A Elements : \")))\n",
    "\n",
    "for i in range(0,n):\n",
    "    b.add(int(input(\"Enter the B Elements : \")))\n",
    "# a={ int(input(\"Enter the set A\").split()) for i in range(0,n)}\n",
    "# b={ int(input(\"Enter the set B\").split()) for i in range(0,n)}\n",
    "x=set(arr)\n",
    "a=set(a_set)\n",
    "b=set(b_set)\n",
    "common1=set()\n",
    "common2=set()\n",
    "\n",
    "if a.isdisjoint(b):\n",
    "    if(x & a):\n",
    "        common1=x & a\n",
    "        happy=len(common1)\n",
    "\n",
    "    if(x & b):\n",
    "        common2=x & b\n",
    "        sad=len(common2)\n",
    "\n",
    "    print(\"Your Happiness : \",happy-sad)\n",
    "\n",
    "else:\n",
    "    print(\"Two sets are not disjoint : \")\n",
    "\n",
    "\n",
    "\n",
    "\n",
    "\n",
    "\n"
   ]
  },
  {
   "cell_type": "code",
   "execution_count": 21,
   "metadata": {},
   "outputs": [
    {
     "name": "stdout",
     "output_type": "stream",
     "text": [
      "1\n"
     ]
    }
   ],
   "source": [
    "\n",
    "# str={input().split()}\n",
    "\n",
    "\n",
    "# def duplicate_letters(str):\n",
    "#     for i in str:\n",
    "#         for j in range(len(i)):\n",
    "#             k=i+1\n",
    "#             for k in range(len(i)):\n",
    "#                 if(int(ord(str[i])) == int(ord(str[j]))):\n",
    "#                     return False\n",
    "\n",
    "\n",
    "#     return True\n",
    "\n",
    "# str={\"Hello\",\"hello\"}\n",
    "# duplicate_letters(str)\n",
    "\n",
    "str={\"Hello\",\"hello\"}\n",
    "falseStore=0\n",
    "\n",
    "for i in str:\n",
    "    for j in range(len(i)):\n",
    "        k=j+1\n",
    "        for k in range(k,len(i)):\n",
    "            if( ord(i[j])) == ord(i[k] ) :\n",
    "                falseStore=1\n",
    "\n",
    "\n",
    "# for  i in str:\n",
    "#     for j in range(len(i)):\n",
    "#         k=j+1\n",
    "#         for k in range(k,len(i)):\n",
    "#             print(i[j],i[k])\n",
    "\n",
    "\n",
    "print(falseStore)\n"
   ]
  },
  {
   "cell_type": "code",
   "execution_count": 22,
   "metadata": {},
   "outputs": [
    {
     "name": "stdout",
     "output_type": "stream",
     "text": [
      "{} <class 'dict'>\n",
      "{} <class 'dict'>\n"
     ]
    }
   ],
   "source": [
    "'''Dictionary'''\n",
    "\n",
    "parul={}\n",
    "print(parul,type(parul))\n",
    "parul=dict()\n",
    "print(parul,type(parul))\n"
   ]
  },
  {
   "cell_type": "code",
   "execution_count": 26,
   "metadata": {},
   "outputs": [
    {
     "name": "stdout",
     "output_type": "stream",
     "text": [
      "{1: 'CSE', 2: 'IT', 'MECH': 10, 'CIVIL': 20}\n",
      "{1: 4, 2: 'IT', 'MECH': 10, 'CIVIL': 20}\n",
      "{1: 4, 2: 'IT', 'MECH': 10, 'CIVIL': 40}\n"
     ]
    }
   ],
   "source": [
    "'''Default Dictionary'''\n",
    "\n",
    "parul={1 : \"CSE\",2:\"IT\",\"MECH\":10,\"CIVIL\" : 20}\n",
    "print(parul)\n",
    "parul[1]=4\n",
    "print(parul)\n",
    "parul[\"CIVIL\"]=40\n",
    "print(parul)"
   ]
  },
  {
   "cell_type": "code",
   "execution_count": null,
   "metadata": {},
   "outputs": [],
   "source": [
    "'''keys values and items'''\n",
    "\n",
    "# Dictionaries\n",
    "parul={1: \"CSE\", (2,): \"IT\", 'Mech': 10, 'CIVIL':20}\n",
    "print(parul)\n",
    "parul[5]='Aviation' # dict[<key>]=<value>\n",
    "print(parul)\n",
    "print(parul.keys()) # will print keys\n",
    "print(*parul.keys())\n",
    "print(parul.values()) # will print values\n",
    "print(*parul.values())\n",
    "print(parul.items()) # will print items of the dict\n",
    "print(*parul.items())\n",
    "for k,v in parul.items():\n",
    "    print(f\"{k} --> {v}\")\n"
   ]
  },
  {
   "cell_type": "code",
   "execution_count": 27,
   "metadata": {},
   "outputs": [
    {
     "name": "stdout",
     "output_type": "stream",
     "text": [
      "Hundred\n",
      "None\n",
      "Key Unavailable\n"
     ]
    }
   ],
   "source": [
    "'''get()'''\n",
    "\n",
    "parul={100:'Hundred'}\n",
    "print(parul.get(100))\n",
    "print(parul.get(20)) # if unkown key then it will return none.\n",
    "print(parul.get(20,\"Key Unavailable\"))"
   ]
  },
  {
   "cell_type": "code",
   "execution_count": 39,
   "metadata": {},
   "outputs": [
    {
     "ename": "ValueError",
     "evalue": "invalid literal for int() with base 10: 'dygh'",
     "output_type": "error",
     "traceback": [
      "\u001b[1;31m---------------------------------------------------------------------------\u001b[0m",
      "\u001b[1;31mValueError\u001b[0m                                Traceback (most recent call last)",
      "Cell \u001b[1;32mIn[39], line 12\u001b[0m\n\u001b[0;32m      1\u001b[0m \u001b[38;5;66;03m# Dynamic input to dictionary\u001b[39;00m\n\u001b[0;32m      2\u001b[0m \n\u001b[0;32m      3\u001b[0m \u001b[38;5;66;03m# student={}\u001b[39;00m\n\u001b[1;32m   (...)\u001b[0m\n\u001b[0;32m      8\u001b[0m \u001b[38;5;66;03m#     student.update({rollno:name})\u001b[39;00m\n\u001b[0;32m      9\u001b[0m \u001b[38;5;66;03m# print(student)\u001b[39;00m\n\u001b[0;32m     11\u001b[0m student\u001b[38;5;241m=\u001b[39m{}\n\u001b[1;32m---> 12\u001b[0m N\u001b[38;5;241m=\u001b[39m\u001b[38;5;28;43mint\u001b[39;49m\u001b[43m(\u001b[49m\u001b[38;5;28;43minput\u001b[39;49m\u001b[43m(\u001b[49m\u001b[38;5;124;43m\"\u001b[39;49m\u001b[38;5;124;43mEnter the No of Students : \u001b[39;49m\u001b[38;5;124;43m\"\u001b[39;49m\u001b[43m)\u001b[49m\u001b[43m)\u001b[49m\n\u001b[0;32m     13\u001b[0m topper\u001b[38;5;241m=\u001b[39mmax_score\u001b[38;5;241m=\u001b[39m\u001b[38;5;241m0\u001b[39m\n\u001b[0;32m     14\u001b[0m \u001b[38;5;28;01mfor\u001b[39;00m i \u001b[38;5;129;01min\u001b[39;00m \u001b[38;5;28mrange\u001b[39m(N):\n",
      "\u001b[1;31mValueError\u001b[0m: invalid literal for int() with base 10: 'dygh'"
     ]
    }
   ],
   "source": [
    "# Dynamic input to dictionary\n",
    "\n",
    "# student={}\n",
    "# N=int(input(\"Enter the No of Students : \"))\n",
    "# for i in range(N):\n",
    "#     rollno=int(input())\n",
    "#     name=input()\n",
    "#     student.update({rollno:name})\n",
    "# print(student)\n",
    "\n",
    "student={}\n",
    "N=int(input(\"Enter the No of Students : \"))\n",
    "topper=max_score=0\n",
    "for i in range(N):\n",
    "    rollno=int(input())\n",
    "    #marks=input().split()\n",
    "    marks=sum(map(int,input().split()))\n",
    "    student[rollno]=marks\n",
    "\n",
    "    if marks>max_score:\n",
    "        max_score=marks\n",
    "        topper=rollno\n",
    "print(student)\n",
    "print(\"The topper is {topper} has scored {sums}\")\n",
    "\n",
    "\n",
    "\n",
    "\n",
    "\n",
    "\n",
    "\n",
    "\n",
    "# for i in student:\n",
    "#     if(sum(i)>sums):\n",
    "#         sums=sum(i)\n",
    "#         topper=i\n",
    "# print(f\"The topper is : \"+{topper})\n",
    "\n",
    "\n",
    "\n"
   ]
  },
  {
   "cell_type": "code",
   "execution_count": 45,
   "metadata": {},
   "outputs": [
    {
     "ename": "SyntaxError",
     "evalue": "(unicode error) 'unicodeescape' codec can't decode bytes in position 2-3: truncated \\UXXXXXXXX escape (2119053723.py, line 17)",
     "output_type": "error",
     "traceback": [
      "\u001b[1;36m  Cell \u001b[1;32mIn[45], line 17\u001b[1;36m\u001b[0m\n\u001b[1;33m    Image(filename = \"C:\\Users\\PratikPatil\\OneDrive\\Desktop\\amazon-png-logo-vector-1.png\",width=1000,height=1000)\u001b[0m\n\u001b[1;37m                                                                                         ^\u001b[0m\n\u001b[1;31mSyntaxError\u001b[0m\u001b[1;31m:\u001b[0m (unicode error) 'unicodeescape' codec can't decode bytes in position 2-3: truncated \\UXXXXXXXX escape\n"
     ]
    }
   ],
   "source": [
    "###Python Object Oriented Programming\n",
    "\n",
    "'''Classes and Objects : '''\n",
    "\n",
    "\n",
    "'''Classes and Objects are the fundamental components of OOPs\n",
    "A class is a prototype that defines the variable and the functinos(methods) common  to all objects.\n",
    "variables(characteristics/attributes) and functionalities (actions they perform ) defined inside the class are accessed through Objects.\n",
    "\n",
    "EG:\n",
    "class -> Email\n",
    "Data Members -> properties\n",
    "Methods -> (actions) - sending email,receiving email,adding attachments.\n",
    "Objects are Instantiation of the Class\n",
    "class in python is defined using the class keyword ,followed by the class name.\n",
    "Syntax : class className(object):\n",
    "            ..............Statement\n",
    "'''\n",
    "\n",
    "from IPython.display import Image\n",
    "Image(filename = \"C:\\Users\\PratikPatil\\OneDrive\\Desktop\\amazon-png-logo-vector-1.png\",width=1000,height=1000)\n"
   ]
  },
  {
   "cell_type": "code",
   "execution_count": null,
   "metadata": {},
   "outputs": [],
   "source": [
    "#EG :\n",
    "\n",
    "class Email:\n",
    "    recipient=\"tana@gmail.com\" \n",
    "    subject_line=\"Invitation\"\n",
    "\n",
    "    def sending(self):\n",
    "        print(\"Email sent Successfully \")\n",
    "     \n",
    "    def attachment(self):\n",
    "        print(\"File attached Successfully \")   \n",
    "Email.sending(0)\n",
    "Email.attachment(0)\n",
    "print(Email.recipient)\n",
    "print(Email.subject_line)\n"
   ]
  },
  {
   "cell_type": "code",
   "execution_count": null,
   "metadata": {},
   "outputs": [],
   "source": [
    "#EG :\n",
    "class Training:\n",
    "    college=\"PArul University\"\n",
    "    location=\"Vadodara\"\n",
    "    no_of_dept=100\n",
    "    tech=\"Python\"\n",
    "\n",
    "\n",
    "    def Placement_And_Training():\n",
    "        print(\"Python traing Going on\")\n",
    "        print(\"Triggered by sobarnika\")\n",
    "    \n",
    "Training.college\n",
    "Training.location"
   ]
  },
  {
   "cell_type": "code",
   "execution_count": 14,
   "metadata": {},
   "outputs": [
    {
     "name": "stdout",
     "output_type": "stream",
     "text": [
      "Tea\n",
      "Coffee\n",
      "Samosa\n",
      "Enter 0 for Tea \n",
      "Enter 1 for coffee\n",
      "Enter 2 for samosa\n",
      "Enter 3 to Exit\n",
      "Bill =  20\n"
     ]
    }
   ],
   "source": [
    "'''EG :'''\n",
    "'''WAP'''\n",
    "\n",
    "class Canteen:\n",
    "    list_items=[\"Tea\",\"Coffee\",\"Samosa\"]\n",
    "    list_prices=[10,20,30]\n",
    "    Stock_in_order = [100,150,200]\n",
    "\n",
    "    def order(quantity):\n",
    "        bill=Canteen.list_prices[choice]*quantity\n",
    "        Canteen.Stock_in_order[choice]-=quantity\n",
    "        return bill\n",
    " \n",
    "\n",
    "\n",
    "\n",
    "for i in Canteen.list_items:\n",
    "    print(i)\n",
    "print(\"Enter 0 for Tea \")\n",
    "print(\"Enter 1 for coffee\")\n",
    "print(\"Enter 2 for samosa\")\n",
    "print(\"Enter 3 to Exit\")\n",
    "choice=int(input(\"Enter the Item You want to order(Enter 0 for Tea ,Enter 1 for coffee,Enter 2 for samosa) : \"))\n",
    "var=True\n",
    "while(var):\n",
    "    if(choice==0):\n",
    "        quantity=int(input(\"Enter the Number of Quantity : \"))\n",
    "        returned_bill=Canteen.order(quantity)\n",
    "        print(\"Bill = \",returned_bill)\n",
    "    elif(choice==1):\n",
    "        returned_bill=quantity=int(input(\"Enter the Number of Quantity : \"))\n",
    "        Canteen.order(quantity)\n",
    "        print(\"Bill = \",returned_bill)\n",
    "    elif(choice==2):\n",
    "        returned_bill=quantity=int((\"Enter the Number of Quantity : \"))\n",
    "        Canteen.order(quantity)\n",
    "        print(\"Bill = \",returned_bill)\n",
    "    elif(choice==3):\n",
    "        var=False\n",
    "        \n",
    "\n",
    "# for i in Canteen.Stock_in_order:\n",
    "#     print(i,end=\" \")\n",
    "print(Canteen.Stock_in_order)\n",
    "\n",
    "\n",
    "\n"
   ]
  },
  {
   "cell_type": "code",
   "execution_count": 18,
   "metadata": {},
   "outputs": [
    {
     "name": "stdout",
     "output_type": "stream",
     "text": [
      "Enter 0 for Tea \n",
      "Enter 1 for coffee\n",
      "Enter 2 for samosa\n",
      "Enter 3 to Exit\n",
      "Bill =  20\n",
      "\n",
      "\n",
      "Enter 0 for Tea \n",
      "Enter 1 for coffee\n",
      "Enter 2 for samosa\n",
      "Enter 3 to Exit\n",
      "Bill =  90\n",
      "\n",
      "\n",
      "Enter 0 for Tea \n",
      "Enter 1 for coffee\n",
      "Enter 2 for samosa\n",
      "Enter 3 to Exit\n",
      "\n",
      "\n",
      "Stocks in Order : \n",
      "[98, 150, 197]\n",
      "\n",
      "\n",
      "Number of Orders =  2\n",
      "The Total Bill is :  110\n"
     ]
    }
   ],
   "source": [
    "\n",
    "'''EG :'''\n",
    "'''WAP'''\n",
    "\n",
    "class Canteen:\n",
    "    list_items=[\"Tea\",\"Coffee\",\"Samosa\"]\n",
    "    list_prices=[10,20,30]\n",
    "    Stock_in_order = [100,150,200]\n",
    "    ordercount=0\n",
    "    totalBill=0\n",
    "\n",
    "    def order(quantity):\n",
    "        bill=Canteen.list_prices[choice]*quantity\n",
    "        Canteen.Stock_in_order[choice]-=quantity\n",
    "        Canteen.ordercount+=1\n",
    "        Canteen.totalBill+=bill\n",
    "        return bill\n",
    " \n",
    "\n",
    "\n",
    "\n",
    "# for i in Canteen.list_items:\n",
    "#     print(i)\n",
    "count=0\n",
    "var=True\n",
    "while(var):\n",
    "    print(\"Enter 0 for Tea \")\n",
    "    print(\"Enter 1 for coffee\")\n",
    "    print(\"Enter 2 for samosa\")\n",
    "    print(\"Enter 3 to Exit\")\n",
    "    choice=int(input(\"Enter the Item You want to order\"))\n",
    "\n",
    "    if(choice==0):\n",
    "        quantity=int(input(\"Enter the Number of Quantity : \"))\n",
    "        returned_bill=Canteen.order(quantity)\n",
    "        print(\"Bill = \",returned_bill)\n",
    "        print(\"\\n\")\n",
    "    elif(choice==1):\n",
    "        quantity=int(input(\"Enter the Number of Quantity : \"))\n",
    "        returned_bill=Canteen.order(quantity)\n",
    "        print(\"Bill = \",returned_bill)\n",
    "        print(\"\\n\")\n",
    "    elif(choice==2):\n",
    "        quantity=int(input(\"Enter the Number of Quantity : \"))\n",
    "        returned_bill=Canteen.order(quantity)\n",
    "        print(\"Bill = \",returned_bill)\n",
    "        print(\"\\n\")\n",
    "    elif(choice==3):\n",
    "        var=False\n",
    "        \n",
    "\n",
    "# for i in Canteen.Stock_in_order:\n",
    "#     print(i,end=\" \")\n",
    "print(\"\\n\")\n",
    "print(\"Stocks in Order : \")\n",
    "print(Canteen.Stock_in_order)\n",
    "print(\"\\n\")\n",
    "print(\"Number of Orders = \",Canteen.ordercount)\n",
    "print(\"The Total Bill is : \",Canteen.totalBill)\n",
    "\n"
   ]
  },
  {
   "cell_type": "code",
   "execution_count": 17,
   "metadata": {},
   "outputs": [
    {
     "name": "stdout",
     "output_type": "stream",
     "text": [
      "tana@gmail.com\n",
      "Email sent Successfully \n",
      "Hello\n"
     ]
    }
   ],
   "source": [
    "'''Creating Object in python : '''\n",
    "\n",
    "\n",
    "class Email:\n",
    "    recipient=\"tana@gmail.com\" \n",
    "    subject_line=\"Invitation\"\n",
    "\n",
    "    def sending(self,greet):\n",
    "        print(\"Email sent Successfully \")\n",
    "        self.greeting=greet\n",
    "     \n",
    "    def attachment(self):\n",
    "        print(\"File attached Successfully \")   \n",
    "\n",
    "\n",
    "obj1=Email()\n",
    "print(obj1.recipient)\n",
    "obj1.sending(\"Hello\")\n",
    "print(obj1.greeting)\n",
    "\n",
    "m1,m2,m3=Email(),Email(),Email()  # creating the objects inline.\n"
   ]
  },
  {
   "cell_type": "code",
   "execution_count": null,
   "metadata": {},
   "outputs": [],
   "source": [
    "\n",
    "'''constructor (init() method )'''\n",
    "\n",
    "'''init() is the constructor function for initializing the variable\n",
    "when we create objects ,constructors are automatically invoked.'''\n",
    "\n",
    "\n",
    "class traing:\n",
    "    # init is a constructor funstion for initializing var\n",
    "    # when we create objects, constructors are automatically invoked(called)\n",
    "    # only class functions are called explicitly, but init methods dont\n",
    "    technology=\"\"\n",
    "    def _init_(self, tech_name):\n",
    "        self.tech_name = tech_name\n",
    "        self.technology = tech_name\n",
    "\n",
    "t1 = traing(\"Python\") #t1, t2 --> object of training class)\n",
    "t2 = traing(\"Java\")\n",
    "print(t1.tech_name)\n",
    "print(t2.tech_name)\n"
   ]
  }
 ],
 "metadata": {
  "kernelspec": {
   "display_name": "Python 3",
   "language": "python",
   "name": "python3"
  },
  "language_info": {
   "codemirror_mode": {
    "name": "ipython",
    "version": 3
   },
   "file_extension": ".py",
   "mimetype": "text/x-python",
   "name": "python",
   "nbconvert_exporter": "python",
   "pygments_lexer": "ipython3",
   "version": "3.11.0"
  }
 },
 "nbformat": 4,
 "nbformat_minor": 2
}
