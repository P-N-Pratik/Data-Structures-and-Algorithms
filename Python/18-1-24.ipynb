{
 "cells": [
  {
   "cell_type": "code",
   "execution_count": null,
   "metadata": {},
   "outputs": [
    {
     "ename": "",
     "evalue": "",
     "output_type": "error",
     "traceback": [
      "\u001b[1;31mThe kernel failed to start as 'Empty' could not be imported from 'c:\\Users\\PratikPatil\\OneDrive\\Documents\\DSA(In C, C++, Java, Python'.\n",
      "\u001b[1;31mClick <a href='https://aka.ms/kernelFailuresModuleImportErrFromFile'>here</a> for more info."
     ]
    }
   ],
   "source": [
    "#sqaure root\n",
    "\n",
    "def square(n,low,high):\n",
    "    while low<=high:\n",
    "        mid = low+(high-low)//2\n",
    "        if mid*mid == n:\n",
    "            ans = mid\n",
    "            return ans\n",
    "        elif mid*mid > n:\n",
    "            high = mid - 1\n",
    "        else:\n",
    "            low = mid+1\n",
    "            ans = mid\n",
    "        \n",
    "        i = 0.1\n",
    "        while i < 1:\n",
    "            value = ans+1\n",
    "            i+=0.1\n",
    "            if value*value>=n:\n",
    "                return value\n",
    "\n",
    "n = eval(input())\n",
    "low = 1\n",
    "high = n//2 \n",
    "square(n,low,high)\n"
   ]
  },
  {
   "cell_type": "code",
   "execution_count": 5,
   "metadata": {},
   "outputs": [
    {
     "name": "stdout",
     "output_type": "stream",
     "text": [
      "2\n",
      "4\n"
     ]
    }
   ],
   "source": [
    "#occurence of any element in array\n",
    "'''\n",
    "arr = [1,2,3,3,4,5,6,6,7]\n",
    "n = int(input())\n",
    "count = 0\n",
    "first = -1\n",
    "last = -1\n",
    "for i in range (len(arr)):\n",
    "    if (count==0) and (arr[i]==n):\n",
    "        first = i\n",
    "        count+=1\n",
    "    elif (arr[i]==n):\n",
    "        last = i\n",
    "\n",
    "print(f\"position of first index : {first}\")\n",
    "print(f\"position of n at indexes : {last}\")\n",
    "\n",
    "#better approach for sorted array\n",
    "\n",
    "arr=list(map(int, input().split()))\n",
    "key = eval(input())\n",
    "first=-1\n",
    "last=-1\n",
    "for i in range(len(arr)):\n",
    "    if arr[i]==key and first==-1:\n",
    "        first = i\n",
    "        last = i\n",
    "    elif arr[i]==key:\n",
    "        last=i\n",
    "print(first,last)   ''' \n",
    "\n",
    "\n",
    "#better approach using binary search for sorted array\n",
    "\n",
    "def firstoccur(arr,si,ei):\n",
    "    while si<=ei:\n",
    "        mid = si+(ei-si)//2\n",
    "        if arr[mid]==key:\n",
    "            first = mid \n",
    "            ei = mid-1\n",
    "        elif arr[mid]<key:\n",
    "            si = mid+1\n",
    "        else:\n",
    "            ei = mid-1\n",
    "    return first\n",
    "\n",
    "def lastoccur(arr,si,ei):\n",
    "    while si<=ei:\n",
    "        mid = si+(ei-si)//2\n",
    "        if arr[mid]==key:\n",
    "            last = mid \n",
    "            si = mid+1\n",
    "        elif arr[mid]<key:\n",
    "            si = mid+1\n",
    "        else:\n",
    "            ei = mid-1\n",
    "    return last\n",
    "\n",
    "arr = list(map(int, input().split()))\n",
    "first = -1\n",
    "last = -1\n",
    "si=0\n",
    "ei = len(arr)-1\n",
    "key = int(input())\n",
    "print(firstoccur(arr,si,ei))\n",
    "print(lastoccur(arr,si,ei))\n"
   ]
  },
  {
   "cell_type": "code",
   "execution_count": 8,
   "metadata": {},
   "outputs": [
    {
     "name": "stdout",
     "output_type": "stream",
     "text": [
      "First occurence\n",
      "duplicates at indexes : 3\n",
      "duplicates at indexes : 4\n",
      "duplicates at indexes : 6\n",
      "total duplicates : 3\n"
     ]
    }
   ],
   "source": [
    "#find the duplicates key in array\n",
    "\n",
    "arr = list(map(int, input().split()))\n",
    "key = int(input())\n",
    "count = 0\n",
    "\n",
    "for i in range(len(arr)):\n",
    "    if count==0 and key==arr[i]:\n",
    "        print(f\"First occurence at index : {i}\")\n",
    "        count+=1\n",
    "    elif key==arr[i]:\n",
    "        count+=1\n",
    "        print(f\"duplicates at indexes : {i}\")\n",
    "print(f\"total duplicates : {count-1}\")"
   ]
  },
  {
   "cell_type": "code",
   "execution_count": 9,
   "metadata": {},
   "outputs": [
    {
     "data": {
      "text/plain": [
       "7"
      ]
     },
     "execution_count": 9,
     "metadata": {},
     "output_type": "execute_result"
    }
   ],
   "source": [
    "#find duplicate pairs in array\n",
    "\n",
    "def findDuplicate(arr,n):\n",
    "    for i in range (n):\n",
    "        index = arr[i]%n\n",
    "        arr[index] += n\n",
    "        if arr[i]/n>=2:\n",
    "            return i\n",
    "    for i in range (n):\n",
    "        if arr[i]/n>=2:\n",
    "            return i\n",
    "    \n",
    "arr = list(map(int, input().split()))\n",
    "n = len(arr)\n",
    "findDuplicate(arr,n)"
   ]
  },
  {
   "cell_type": "code",
   "execution_count": 21,
   "metadata": {},
   "outputs": [
    {
     "name": "stdout",
     "output_type": "stream",
     "text": [
      "Random peak: 5\n",
      "[5, 15, 10]\n"
     ]
    }
   ],
   "source": [
    "import random\n",
    "\n",
    "a = [1, 2, 3, 5, 2, 6, 9, 13,15,4,6,10]\n",
    "a1 = []\n",
    "\n",
    "for i in range(1, len(a)-1):\n",
    "    if a[i-1] < a[i] > a[i+1]:\n",
    "        a1.append(a[i])\n",
    "\n",
    "if a[-2] < a[-1]:\n",
    "    a1.append(a[-1])\n",
    "\n",
    "if a1:\n",
    "    random_peak = random.choice(a1)\n",
    "    print(f\"Random peak: {random_peak}\")\n",
    "else:\n",
    "    print(\"No peak elements found.\")\n",
    "\n",
    "print(a1)\n",
    "\n",
    "#binary search approach \n",
    "\n",
    "\n"
   ]
  }
 ],
 "metadata": {
  "kernelspec": {
   "display_name": "Python 3",
   "language": "python",
   "name": "python3"
  },
  "language_info": {
   "codemirror_mode": {
    "name": "ipython",
    "version": 3
   },
   "file_extension": ".py",
   "mimetype": "text/x-python",
   "name": "python",
   "nbconvert_exporter": "python",
   "pygments_lexer": "ipython3",
   "version": "3.11.0"
  }
 },
 "nbformat": 4,
 "nbformat_minor": 2
}
